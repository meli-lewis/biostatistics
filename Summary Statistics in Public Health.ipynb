{
 "cells": [
  {
   "cell_type": "code",
   "execution_count": 1,
   "metadata": {},
   "outputs": [],
   "source": [
    "import matplotlib.pyplot as plt\n",
    "import pandas as pd\n",
    "%matplotlib inline"
   ]
  },
  {
   "cell_type": "markdown",
   "metadata": {},
   "source": [
    "<font size='5'>Biostatistics in Public Health</font>\n",
    "\n",
    "<font size='4'>Coursera: Johns Hopkins University</font>\n",
    "\n",
    "I'm not sure yet whether the class will advise a particular programming language or dataset, so for my own edification I'll map principles to a U.S. Census Bureau dataset (populations by county) and Python packages that I use."
   ]
  },
  {
   "cell_type": "code",
   "execution_count": 2,
   "metadata": {},
   "outputs": [],
   "source": [
    "df = pd.read_csv(\n",
    "    'data/co-est2019-alldata.csv',\n",
    "    usecols=[\n",
    "        'STATE', 'STNAME', 'COUNTY', 'CTYNAME', 'POPESTIMATE2019', 'DEATHS2019'\n",
    "    ],\n",
    "    dtype={\n",
    "        'STATE': str,\n",
    "        'COUNTY': str,\n",
    "    },\n",
    "    encoding=\"ISO-8859-1\")"
   ]
  },
  {
   "cell_type": "code",
   "execution_count": 3,
   "metadata": {},
   "outputs": [],
   "source": [
    "# Drop rows pertaining to state-level data\n",
    "df = df[df['COUNTY'] != '000'].copy()"
   ]
  },
  {
   "cell_type": "code",
   "execution_count": 4,
   "metadata": {},
   "outputs": [],
   "source": [
    "df['fips'] = df['STATE'] + df['COUNTY']"
   ]
  },
  {
   "cell_type": "code",
   "execution_count": 5,
   "metadata": {},
   "outputs": [],
   "source": [
    "df.drop(labels=['STATE', 'COUNTY'], axis=1, inplace=True)"
   ]
  },
  {
   "cell_type": "code",
   "execution_count": 6,
   "metadata": {},
   "outputs": [],
   "source": [
    "df.rename(columns={\n",
    "    'STNAME': 'state',\n",
    "    'CTYNAME': 'county',\n",
    "    'POPESTIMATE2019': 'population2019',\n",
    "    'DEATHS2019': 'deaths2019'\n",
    "}, inplace=True)"
   ]
  },
  {
   "cell_type": "markdown",
   "metadata": {
    "toc": true
   },
   "source": [
    "<h1>Table of Contents<span class=\"tocSkip\"></span></h1>\n",
    "<div class=\"toc\"><ul class=\"toc-item\"><li><span><a href=\"#Week-One\" data-toc-modified-id=\"Week-One-1\"><span class=\"toc-item-num\">1&nbsp;&nbsp;</span>Week One</a></span><ul class=\"toc-item\"><li><span><a href=\"#Study-types\" data-toc-modified-id=\"Study-types-1.1\"><span class=\"toc-item-num\">1.1&nbsp;&nbsp;</span>Study types</a></span></li><li><span><a href=\"#Data-types\" data-toc-modified-id=\"Data-types-1.2\"><span class=\"toc-item-num\">1.2&nbsp;&nbsp;</span>Data types</a></span></li><li><span><a href=\"#Continuous-data-measures\" data-toc-modified-id=\"Continuous-data-measures-1.3\"><span class=\"toc-item-num\">1.3&nbsp;&nbsp;</span>Continuous data measures</a></span><ul class=\"toc-item\"><li><span><a href=\"#Central-Tendency\" data-toc-modified-id=\"Central-Tendency-1.3.1\"><span class=\"toc-item-num\">1.3.1&nbsp;&nbsp;</span>Central Tendency</a></span><ul class=\"toc-item\"><li><span><a href=\"#Mean\" data-toc-modified-id=\"Mean-1.3.1.1\"><span class=\"toc-item-num\">1.3.1.1&nbsp;&nbsp;</span>Mean</a></span></li><li><span><a href=\"#Median\" data-toc-modified-id=\"Median-1.3.1.2\"><span class=\"toc-item-num\">1.3.1.2&nbsp;&nbsp;</span>Median</a></span></li></ul></li><li><span><a href=\"#Variability\" data-toc-modified-id=\"Variability-1.3.2\"><span class=\"toc-item-num\">1.3.2&nbsp;&nbsp;</span>Variability</a></span><ul class=\"toc-item\"><li><span><a href=\"#Sample-variance-($s^2$)\" data-toc-modified-id=\"Sample-variance-($s^2$)-1.3.2.1\"><span class=\"toc-item-num\">1.3.2.1&nbsp;&nbsp;</span>Sample variance ($s^2$)</a></span></li><li><span><a href=\"#Sample-standard-deviation-(s-or-SD)\" data-toc-modified-id=\"Sample-standard-deviation-(s-or-SD)-1.3.2.2\"><span class=\"toc-item-num\">1.3.2.2&nbsp;&nbsp;</span>Sample standard deviation (s or SD)</a></span></li></ul></li><li><span><a href=\"#Comparing-Continuous-Data-Measures\" data-toc-modified-id=\"Comparing-Continuous-Data-Measures-1.3.3\"><span class=\"toc-item-num\">1.3.3&nbsp;&nbsp;</span>Comparing Continuous Data Measures</a></span><ul class=\"toc-item\"><li><span><a href=\"#Histograms\" data-toc-modified-id=\"Histograms-1.3.3.1\"><span class=\"toc-item-num\">1.3.3.1&nbsp;&nbsp;</span>Histograms</a></span></li><li><span><a href=\"#Box-Plots\" data-toc-modified-id=\"Box-Plots-1.3.3.2\"><span class=\"toc-item-num\">1.3.3.2&nbsp;&nbsp;</span>Box Plots</a></span></li></ul></li></ul></li></ul></li></ul></div>"
   ]
  },
  {
   "cell_type": "markdown",
   "metadata": {},
   "source": [
    "# Week One"
   ]
  },
  {
   "cell_type": "markdown",
   "metadata": {},
   "source": [
    "## Study types\n",
    "Their purpose is to mitigate confounds that arise from having to study a sample when you’re trying to understand a population.\n",
    "\n",
    "- Prospective cohort: “the subjects who are under study are being classified as to their group status, usually defined by some sort of exposure at the start of the study and then followed over time to see who develops the outcome or outcomes of interests. So, in these, the exposure precedes the outcome in time.” We’ll learn primarily about two types:\n",
    "  - Randomized controlled\n",
    "  - Observational\n",
    "    Here, you can take a random sample and then determine whether participants are, say, smokers or non-smokers. Or, if you want to ensure a 1:1 ratio, you could sample randomly from each pool of people you already know to be smokers or non-smokers.\n",
    "\n",
    "- Case-control: “subjects are chosen based on their outcome status and then the exposures that occurred prior to the outcome are assessed.”\n",
    "\n",
    "\n",
    "## Data types\n"
   ]
  },
  {
   "cell_type": "markdown",
   "metadata": {},
   "source": [
    "- Continuous (e.g. weight, height)\n",
    "- Categorical\n",
    "- Binary\n",
    "- Nominal (race, nationality)\n",
    "- Ordinal (income level)"
   ]
  },
  {
   "cell_type": "markdown",
   "metadata": {},
   "source": [
    "## Continuous data measures\n",
    "\n",
    "### Central Tendency\n",
    "\n",
    "#### Mean\n",
    "\n",
    "$\\bar{x}$ denotes sample mean and is otherwise known as an estimate of $\\mu$, the population mean.\n",
    "\n",
    "$$\\bar{x} = {\\frac {\\sum _{i=1}^{n}x_{i}}{n}}\\ where\\ \\sum_{i=1}^{n} x_i = x_{1}+x_{2}+\\cdots +x_{n}$$"
   ]
  },
  {
   "cell_type": "code",
   "execution_count": 7,
   "metadata": {},
   "outputs": [],
   "source": [
    "ca = df[df['state']=='California']"
   ]
  },
  {
   "cell_type": "code",
   "execution_count": 8,
   "metadata": {},
   "outputs": [
    {
     "data": {
      "text/plain": [
       "681245.224137931"
      ]
     },
     "execution_count": 8,
     "metadata": {},
     "output_type": "execute_result"
    }
   ],
   "source": [
    "mean = ca['population2019'].mean()\n",
    "mean"
   ]
  },
  {
   "cell_type": "markdown",
   "metadata": {},
   "source": [
    "#### Median\n",
    "\n",
    "Essentially the middle value in an ordered set of continuous data measures, or 50th percentile.\n",
    "\n",
    "$\\hat{m}$ denotes sample median and is otherwise known as an estimate of $m$, the population median."
   ]
  },
  {
   "cell_type": "code",
   "execution_count": 9,
   "metadata": {},
   "outputs": [
    {
     "data": {
      "text/plain": [
       "187029.0"
      ]
     },
     "execution_count": 9,
     "metadata": {},
     "output_type": "execute_result"
    }
   ],
   "source": [
    "median = ca['population2019'].median()\n",
    "median"
   ]
  },
  {
   "cell_type": "markdown",
   "metadata": {},
   "source": [
    "California's population by county is a good illustration of how much mean and median can differ:"
   ]
  },
  {
   "cell_type": "code",
   "execution_count": 10,
   "metadata": {},
   "outputs": [
    {
     "data": {
      "text/plain": [
       "3.6424577158511835"
      ]
     },
     "execution_count": 10,
     "metadata": {},
     "output_type": "execute_result"
    }
   ],
   "source": [
    "mean/median"
   ]
  },
  {
   "cell_type": "markdown",
   "metadata": {},
   "source": [
    "We can see the counties with the highest populations here:"
   ]
  },
  {
   "cell_type": "code",
   "execution_count": 11,
   "metadata": {
    "scrolled": true
   },
   "outputs": [
    {
     "data": {
      "text/html": [
       "<div>\n",
       "<style scoped>\n",
       "    .dataframe tbody tr th:only-of-type {\n",
       "        vertical-align: middle;\n",
       "    }\n",
       "\n",
       "    .dataframe tbody tr th {\n",
       "        vertical-align: top;\n",
       "    }\n",
       "\n",
       "    .dataframe thead th {\n",
       "        text-align: right;\n",
       "    }\n",
       "</style>\n",
       "<table border=\"1\" class=\"dataframe\">\n",
       "  <thead>\n",
       "    <tr style=\"text-align: right;\">\n",
       "      <th></th>\n",
       "      <th>state</th>\n",
       "      <th>county</th>\n",
       "      <th>population2019</th>\n",
       "      <th>deaths2019</th>\n",
       "      <th>fips</th>\n",
       "    </tr>\n",
       "  </thead>\n",
       "  <tbody>\n",
       "    <tr>\n",
       "      <th>209</th>\n",
       "      <td>California</td>\n",
       "      <td>Los Angeles County</td>\n",
       "      <td>10039107</td>\n",
       "      <td>68164</td>\n",
       "      <td>06037</td>\n",
       "    </tr>\n",
       "    <tr>\n",
       "      <th>227</th>\n",
       "      <td>California</td>\n",
       "      <td>San Diego County</td>\n",
       "      <td>3338330</td>\n",
       "      <td>23052</td>\n",
       "      <td>06073</td>\n",
       "    </tr>\n",
       "    <tr>\n",
       "      <th>220</th>\n",
       "      <td>California</td>\n",
       "      <td>Orange County</td>\n",
       "      <td>3175692</td>\n",
       "      <td>21518</td>\n",
       "      <td>06059</td>\n",
       "    </tr>\n",
       "    <tr>\n",
       "      <th>223</th>\n",
       "      <td>California</td>\n",
       "      <td>Riverside County</td>\n",
       "      <td>2470546</td>\n",
       "      <td>18148</td>\n",
       "      <td>06065</td>\n",
       "    </tr>\n",
       "    <tr>\n",
       "      <th>226</th>\n",
       "      <td>California</td>\n",
       "      <td>San Bernardino County</td>\n",
       "      <td>2180085</td>\n",
       "      <td>15223</td>\n",
       "      <td>06071</td>\n",
       "    </tr>\n",
       "  </tbody>\n",
       "</table>\n",
       "</div>"
      ],
      "text/plain": [
       "          state                 county  population2019  deaths2019   fips\n",
       "209  California     Los Angeles County        10039107       68164  06037\n",
       "227  California       San Diego County         3338330       23052  06073\n",
       "220  California          Orange County         3175692       21518  06059\n",
       "223  California       Riverside County         2470546       18148  06065\n",
       "226  California  San Bernardino County         2180085       15223  06071"
      ]
     },
     "execution_count": 11,
     "metadata": {},
     "output_type": "execute_result"
    }
   ],
   "source": [
    "df[df['state']=='California'].sort_values(by='population2019', ascending=False).head()"
   ]
  },
  {
   "cell_type": "code",
   "execution_count": 12,
   "metadata": {},
   "outputs": [],
   "source": [
    "ca_sans_la = ca[ca['county']!='Los Angeles County']"
   ]
  },
  {
   "cell_type": "code",
   "execution_count": 13,
   "metadata": {},
   "outputs": [],
   "source": [
    "mean2 = ca_sans_la['population2019'].mean()"
   ]
  },
  {
   "cell_type": "code",
   "execution_count": 14,
   "metadata": {},
   "outputs": [],
   "source": [
    "median2 = ca_sans_la['population2019'].median()"
   ]
  },
  {
   "cell_type": "markdown",
   "metadata": {},
   "source": [
    "Los Angeles County alone makes the mean county population for CA over 30% greater:"
   ]
  },
  {
   "cell_type": "code",
   "execution_count": 15,
   "metadata": {},
   "outputs": [
    {
     "data": {
      "text/plain": [
       "1.3175050027239084"
      ]
     },
     "execution_count": 15,
     "metadata": {},
     "output_type": "execute_result"
    }
   ],
   "source": [
    "mean/mean2"
   ]
  },
  {
   "cell_type": "markdown",
   "metadata": {},
   "source": [
    "But it makes the median county population only 3% greater:"
   ]
  },
  {
   "cell_type": "code",
   "execution_count": 16,
   "metadata": {},
   "outputs": [
    {
     "data": {
      "text/plain": [
       "1.0320834368015892"
      ]
     },
     "execution_count": 16,
     "metadata": {},
     "output_type": "execute_result"
    }
   ],
   "source": [
    "median/median2"
   ]
  },
  {
   "cell_type": "markdown",
   "metadata": {},
   "source": [
    "But the appropriateness of mean vs. median is context-dependent."
   ]
  },
  {
   "cell_type": "markdown",
   "metadata": {},
   "source": [
    "### Variability"
   ]
  },
  {
   "cell_type": "markdown",
   "metadata": {},
   "source": [
    "#### Sample variance ($s^2$)\n",
    "\n",
    "$s^2 = \\frac{\\sum_{i=1}^{n}(x_i-\\bar{x})^2}{n-1}$"
   ]
  },
  {
   "cell_type": "markdown",
   "metadata": {},
   "source": [
    "#### Sample standard deviation (s or SD)\n",
    "\n",
    "$s$ denotes sample standard deviation and is otherwise known as an estimate of the population standard deviation, $\\sigma$\n",
    "\n",
    "$s$ is the square root of the sample variance (hence sample variance being $s^2$ and sample standard deviation being $s$!)"
   ]
  },
  {
   "cell_type": "code",
   "execution_count": 17,
   "metadata": {},
   "outputs": [
    {
     "data": {
      "text/plain": [
       "count    5.800000e+01\n",
       "mean     6.812452e+05\n",
       "std      1.467932e+06\n",
       "min      1.129000e+03\n",
       "25%      4.804825e+04\n",
       "50%      1.870290e+05\n",
       "75%      7.092760e+05\n",
       "max      1.003911e+07\n",
       "Name: population2019, dtype: float64"
      ]
     },
     "execution_count": 17,
     "metadata": {},
     "output_type": "execute_result"
    }
   ],
   "source": [
    "ca['population2019'].describe()"
   ]
  },
  {
   "cell_type": "markdown",
   "metadata": {},
   "source": [
    "### Comparing Continuous Data Measures\n",
    "#### Histograms"
   ]
  },
  {
   "cell_type": "code",
   "execution_count": 18,
   "metadata": {},
   "outputs": [
    {
     "data": {
      "text/plain": [
       "(array([60.,  7.,  2.,  3.,  0.,  0.,  1.,  1.,  0.,  1.]),\n",
       " array([  5189. ,  43861.2,  82533.4, 121205.6, 159877.8, 198550. ,\n",
       "        237222.2, 275894.4, 314566.6, 353238.8, 391911. ]),\n",
       " <a list of 10 Patch objects>)"
      ]
     },
     "execution_count": 18,
     "metadata": {},
     "output_type": "execute_result"
    },
    {
     "data": {
      "image/png": "[encoded data removed]",
      "text/plain": [
       "<Figure size 432x288 with 1 Axes>"
      ]
     },
     "metadata": {
      "needs_background": "light"
     },
     "output_type": "display_data"
    }
   ],
   "source": [
    "plt.hist(df[df['state']=='Arkansas']['population2019'], bins=10)"
   ]
  },
  {
   "cell_type": "markdown",
   "metadata": {},
   "source": [
    "According to the histogram, Arkansas had 60 counties (first element in first array) for which the 2019 population estimate was less than 43,861 (second element in second array, showing the right edge of the first bin).\n",
    "\n",
    "The following counts the number of rows in `df` for which the `state` is \"Arkansas\" and the `population2019` is less than 43,861, and it returns 60!"
   ]
  },
  {
   "cell_type": "code",
   "execution_count": 19,
   "metadata": {},
   "outputs": [
    {
     "data": {
      "text/plain": [
       "state              1\n",
       "county            60\n",
       "population2019    60\n",
       "deaths2019        57\n",
       "fips              60\n",
       "dtype: int64"
      ]
     },
     "execution_count": 19,
     "metadata": {},
     "output_type": "execute_result"
    }
   ],
   "source": [
    "df[(df['state']=='Arkansas') & (df['population2019'] < 43861)].nunique()"
   ]
  },
  {
   "cell_type": "markdown",
   "metadata": {},
   "source": [
    "#### Box Plots"
   ]
  },
  {
   "cell_type": "code",
   "execution_count": 20,
   "metadata": {},
   "outputs": [
    {
     "data": {
      "text/plain": [
       "{'whiskers': [<matplotlib.lines.Line2D at 0x107ae2ef0>,\n",
       "  <matplotlib.lines.Line2D at 0x107ae2fd0>],\n",
       " 'caps': [<matplotlib.lines.Line2D at 0x107b5e5c0>,\n",
       "  <matplotlib.lines.Line2D at 0x107b5e908>],\n",
       " 'boxes': [<matplotlib.lines.Line2D at 0x107ae2b00>],\n",
       " 'medians': [<matplotlib.lines.Line2D at 0x107b5ec50>],\n",
       " 'fliers': [<matplotlib.lines.Line2D at 0x107b6b320>],\n",
       " 'means': [<matplotlib.lines.Line2D at 0x107b5ef98>]}"
      ]
     },
     "execution_count": 20,
     "metadata": {},
     "output_type": "execute_result"
    },
    {
     "data": {
      "image/png": "[encoded data removed]",
      "text/plain": [
       "<Figure size 432x288 with 1 Axes>"
      ]
     },
     "metadata": {
      "needs_background": "light"
     },
     "output_type": "display_data"
    }
   ],
   "source": [
    "plt.boxplot(\n",
    "    df[df['state'] == 'Arkansas']['population2019'],\n",
    "    labels=['2019 Population by County'],\n",
    "    showmeans=True)"
   ]
  },
  {
   "cell_type": "markdown",
   "metadata": {},
   "source": [
    "From the box plot, it looks like the maximum value in the data is around 400,000, the median (orange line) appears to be below 25,000, and the mean (the green shape) is closer to 50,000. The `.describe` method on the same values indeed shows a `max` value of 391,911, a `median` (50th percentile) of 18,219 and a `mean` of about 40,237."
   ]
  },
  {
   "cell_type": "code",
   "execution_count": 21,
   "metadata": {},
   "outputs": [
    {
     "data": {
      "text/plain": [
       "count        75.000000\n",
       "mean      40237.386667\n",
       "std       62605.549326\n",
       "min        5189.000000\n",
       "25%       12368.000000\n",
       "50%       18219.000000\n",
       "75%       38253.500000\n",
       "max      391911.000000\n",
       "Name: population2019, dtype: float64"
      ]
     },
     "execution_count": 21,
     "metadata": {},
     "output_type": "execute_result"
    }
   ],
   "source": [
    "df[df['state'] == 'Arkansas']['population2019'].describe()"
   ]
  }
 ],
 "metadata": {
  "kernelspec": {
   "display_name": "Python 3",
   "language": "python",
   "name": "python3"
  },
  "language_info": {
   "codemirror_mode": {
    "name": "ipython",
    "version": 3
   },
   "file_extension": ".py",
   "mimetype": "text/x-python",
   "name": "python",
   "nbconvert_exporter": "python",
   "pygments_lexer": "ipython3",
   "version": "3.7.1"
  },
  "toc": {
   "base_numbering": 1,
   "nav_menu": {},
   "number_sections": true,
   "sideBar": true,
   "skip_h1_title": false,
   "title_cell": "Table of Contents",
   "title_sidebar": "Contents",
   "toc_cell": true,
   "toc_position": {},
   "toc_section_display": true,
   "toc_window_display": false
  }
 },
 "nbformat": 4,
 "nbformat_minor": 2
}
